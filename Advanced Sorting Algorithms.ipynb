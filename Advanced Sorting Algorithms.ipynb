{
 "cells": [
  {
   "cell_type": "code",
   "execution_count": 1,
   "metadata": {},
   "outputs": [],
   "source": [
    "NAME = \"Batsal Ghimire\""
   ]
  },
  {
   "cell_type": "markdown",
   "metadata": {
    "nbgrader": {
     "checksum": "b40a3a7f6a8c68f100a7bd3ae895c3ee",
     "grade": false,
     "grade_id": "cell-1127d0babde89bd7",
     "locked": true,
     "schema_version": 1,
     "solution": false
    }
   },
   "source": [
    "\n",
    "# Divide and Conquer Sorting Algorithms"
   ]
  },
  {
   "cell_type": "markdown",
   "metadata": {
    "deletable": false,
    "nbgrader": {
     "checksum": "b3c8a8e1fd87a705f8ae943081513797",
     "grade": false,
     "grade_id": "cell-2a94124c1b43fea6",
     "locked": true,
     "schema_version": 1,
     "solution": false
    }
   },
   "source": [
    "#### Python implementation of the three-way merge sort algorithm\n"
   ]
  },
  {
   "cell_type": "code",
   "execution_count": 2,
   "metadata": {
    "deletable": false,
    "nbgrader": {
     "checksum": "52fc4bd029432fb3de26fbea6da20cbf",
     "grade": false,
     "grade_id": "cell-47961f0da38f1381",
     "locked": false,
     "schema_version": 1,
     "solution": true
    }
   },
   "outputs": [],
   "source": [
    "import numpy as np #Imports the numpy module as np\n",
    "import time\n",
    "steps = 0 #Initializes the steps to 0.\n",
    "def time_three_merge(arr): #function to calculate the run time of the three way merge sort.\n",
    "    start = time.time()\n",
    "    A = []\n",
    "    if type(arr) == np.ndarray:\n",
    "        A = arr.tolist()\n",
    "    else:\n",
    "        A = arr\n",
    "    sorte =three_way(A)\n",
    "    end = time.time()\n",
    "    tot_time = end-start\n",
    "    return tot_time\n",
    "\n",
    "def three_way_merge(arr): #Function to allow numpy arrays to be processed by the algorithm.\n",
    "    A = []\n",
    "    if type(arr) == np.ndarray:\n",
    "        A = arr.tolist()\n",
    "    else:\n",
    "        A = arr\n",
    "    sorte =three_way(A)\n",
    "    return sorte[0]\n",
    "    \n",
    "def three_way(arr):\n",
    "    \"\"\"Implements three-way marge sort\n",
    "    \n",
    "    Input:\n",
    "    arr: a Python list OR numpy array (your code should work with both of these data types)\n",
    "    \n",
    "    Output: a sorted Python list\"\"\"\n",
    "    global steps #Counter for the number of steps and sets it as a global variables\n",
    "    steps = steps+1\n",
    "    if len(arr)>1: #If there are more than one elements in the array.\n",
    "        n = len(arr) #Sets the length of arr to n\n",
    "        mid1 = (n-1)//3 #This gives the index for the first third of the array\n",
    "        mid2 = 2*(n-1)//3 #This gives the index for the second third of the array\n",
    "        left = arr[:mid1+1] #Array for the first thirds from arr[0] to arr[mid1+1]\n",
    "        middle = arr[mid1+1:mid2+1] #Array for the second thirds from arr[mid1+1] to arr[mid2+1]\n",
    "        right = arr[mid2+1:] #Array for the first thirds from arr[mid2+1] to end of the array\n",
    "        three_way(left) #Recursively calls the function to further subdivide the left list\n",
    "        three_way(middle)#Recursively calls the function to further subdivide the middle list\n",
    "        three_way(right)#Recursively calls the function to further subdivide the right list\n",
    "        sorted_array = merge(arr, left, middle, right)\n",
    "        return arr , sorted_array[1]\n",
    "        \n",
    "    else:\n",
    "        return arr, steps\n",
    "        \n",
    "def merge(arr, left, middle, right):\n",
    "    global steps\n",
    "    i = j = k = l = 0 #Initialize the variables to 0.\n",
    "    while i<len(left) and j<len(middle) and k<len(right): #Runs the loop as long a the the length of all sublists are greater than their index counter.\n",
    "        steps = steps + 1 #Add one step for the comparison.\n",
    "        if left[i]<middle[j]: #Compares the value of current index of left and middle list\n",
    "            if left[i]<right[k]: #Compares the value of current index of left and right list\n",
    "                #If both the conditions are true, it means that the left list value is lowest.\n",
    "                arr[l] = left[i] #Add the current index value of lest to the array.\n",
    "                i = i+1 #Increase the index i by 1\n",
    "                l = l+1 #Increase the index l by 1\n",
    "            else: # If left value is lower than middle value, but greater than the right value.\n",
    "                arr[l] = right[k] #Add the right value to the array.\n",
    "                k = k+1 #Increase the index k by 1\n",
    "                l = l+1 #Increase the index l by 1\n",
    "                    \n",
    "        else: #If left is greater than the middle value\n",
    "            if middle[j]<right[k]: #If middle is less than the right value\n",
    "                #This means that the middle has the least value\n",
    "                arr[l] = middle[j] #Add the middle value to the list.\n",
    "                j = j+1 #Increase the index j by 1\n",
    "                l = l+1 #Increase the index l by 1\n",
    "            else:\n",
    "                arr[l] = right[k]\n",
    "                k = k+1 #Increase the index k by 1\n",
    "                l = l+1 #Increase the index l by 1\n",
    "                    \n",
    "    while j<len(middle) and k<len(right): #Checks if there are enough elements to make the comparisons between middle and right list.\n",
    "        steps = steps + 1 #Add one step for the comparison.\n",
    "        if middle[j]<right[k]: # If middle value is less than the right value\n",
    "            arr[l] = middle[j] #Adds the middle value to the array\n",
    "            j = j+1 #Increase the index j by 1\n",
    "            l = l+1 #Increase the index l by 1\n",
    "        else: #Right value is less than the middle value\n",
    "            arr[l] = right[k] #Add the right value in the array.\n",
    "            k = k+1 #Increase the index k by 1 \n",
    "            l = l+1 #Increase the index l by 1\n",
    "                \n",
    "    while i<len(left) and j<len(middle): #Checks if there are enough elements to make the comparisons between middle and left list.\n",
    "        steps = steps + 1 #Add one step for the comparison.\n",
    "        if left[i]<middle[j]: #If the left value is smaller than the middle value\n",
    "            arr[l] = left[i] #Adds the left value to the array\n",
    "            i = i+1 #Increase the index i by 1\n",
    "            l = l+1 #Increase the index l by 1\n",
    "        else: #If middle value is smaller\n",
    "            arr[l] = middle[j] #Add middle value to the array\n",
    "            j = j+1 #Increase the index j by 1\n",
    "            l = l+1 #Increase the index l by 1\n",
    "                \n",
    "    while i<len(left) and k<len(right): #Checks if there are enough elements to make the comparisons between left and right list.\n",
    "        steps = steps + 1 #Add one step for the comparison.\n",
    "        if left[i]<right[k]: #If left value is smaller than right\n",
    "            arr[l] = left[i] #Add the left value to the array\n",
    "            i = i+1 #Increase the index i by 1\n",
    "            l = l+1 #Increase the index l by 1\n",
    "                \n",
    "        else: #If right value is smaller than the right value\n",
    "            arr[l] = right[k] #Add right value to the array\n",
    "            k = k+1 #Increase the index k by 1\n",
    "            l = l+1 #Increase the index l by 1\n",
    "                \n",
    "    while i<len(left): #If there are remaining elements in the left list, add them to the array.\n",
    "        steps = steps + 1 #Add one step for the comparison.\n",
    "        arr[l] = left[i]\n",
    "        i = i+1 #Increase the index i by 1\n",
    "        l = l+1 #Increase the index l by 1\n",
    "            \n",
    "    while j<len(middle): #If there are remaining elements in the middle list, add them to the array.\n",
    "        steps = steps + 1 #Add one step for the comparison.\n",
    "        arr[l] = middle[j]\n",
    "        j = j+1 #Increase the index j by 1\n",
    "        l = l+1 #Increase the index l by 1\n",
    "            \n",
    "    while k<len(right): #If there are remaining elements in the right list, add them to the array.\n",
    "        steps = steps + 1 #Add one step for the comparison.\n",
    "        arr[l] = right[k]\n",
    "        k = k+1 #Increase the index k by 1\n",
    "        l = l+1 #Increase the index l by 1\n",
    "            \n",
    "    return arr, steps #Returns the sorted array"
   ]
  },
  {
   "cell_type": "code",
   "execution_count": 3,
   "metadata": {
    "deletable": false,
    "editable": false,
    "nbgrader": {
     "checksum": "d0e00aa2481aea1232da19ec1692f45c",
     "grade": true,
     "grade_id": "cell-41b1d220414c9bd0",
     "locked": true,
     "points": 1,
     "schema_version": 1,
     "solution": false
    }
   },
   "outputs": [],
   "source": [
    "assert(three_way_merge([4,3,2,1]) == [1,2,3,4])\n",
    "assert(three_way_merge(np.array([4,3,2,1])) == [1,2,3,4]) "
   ]
  },
  {
   "cell_type": "code",
   "execution_count": 4,
   "metadata": {},
   "outputs": [],
   "source": [
    "assert(three_way_merge([]) == []) #When there are no elements in the input array\n",
    "assert(three_way_merge([1]) == [1]) #When there is one element in the input array\n",
    "assert(three_way_merge([-1,-2,-3,-4,-5]) == [-5,-4,-3,-2,-1]) #The worst case for all negative numbers\n",
    "assert(three_way_merge([3,2]) == [2,3]) #Two elements for a three way merge sort\n",
    "assert(three_way_merge([1,2,3,4,5]) == [1,2,3,4,5]) #Best case with a sorted array\n",
    "assert(three_way_merge([1,0,0,0,3]) == [0,0,0,1,3]) #Repeating elements in a list."
   ]
  },
  {
   "cell_type": "markdown",
   "metadata": {
    "deletable": false,
    "nbgrader": {
     "checksum": "fc1955ef79cb6aaf4508478f72b426cf",
     "grade": false,
     "grade_id": "cell-bf1e08fbb21272f7",
     "locked": true,
     "schema_version": 1,
     "solution": false
    }
   },
   "source": [
    "#### Three-way merge sort that calls bubble sort when sublists are below a certain length (of your choice) rather than continuing the subdivision process."
   ]
  },
  {
   "cell_type": "code",
   "execution_count": 5,
   "metadata": {
    "deletable": false,
    "nbgrader": {
     "checksum": "bda5610ee1c06392a5c75a11acd4aaf0",
     "grade": false,
     "grade_id": "cell-e1e72cc08eb6a5f0",
     "locked": false,
     "schema_version": 1,
     "solution": true
    }
   },
   "outputs": [],
   "source": [
    "def bubble_sort(arr): #Regular bubble sort algorithm\n",
    "    n = len(arr) #Sets length of array to n\n",
    "    for i in range (n): #Iterates from i to n\n",
    "        for j in range (0, n-i-1): \n",
    "            if arr[j]>arr[j+1]: #Compares the elements based on their index\n",
    "                arr[j], arr[j+1] = arr[j+1],arr[j] #Swaps the position of the elements\n",
    "    return arr\n",
    "\n",
    "def extend_three_way_merge(arr):\n",
    "    \"\"\"Implements the second version of a three-way merge sort\n",
    "    \n",
    "    Input:\n",
    "    arr: a Python list OR numpy array (your code should work with both of these data types)\n",
    "    \n",
    "    Output: a sorted Python list\"\"\"\n",
    "    global t_steps\n",
    "    app_threshold = 5 #The threshold for using bubble sort.\n",
    "    if len(arr) <= app_threshold:\n",
    "        return bubble_sort(arr)\n",
    "    n = len(arr)\n",
    "    mid1 = (n-1)//3 #This gives the index for the first third of the array\n",
    "    mid2 = 2*(n-1)//3 #This gives the index for the second third of the array\n",
    "    left = arr[:mid1+1] #Array for the first thirds from arr[0] to arr[mid1+1]\n",
    "    middle = arr[mid1+1:mid2+1] #Array for the second thirds from arr[mid1+1] to arr[mid2+1]\n",
    "    right = arr[mid2+1:] #Array for the first thirds from arr[mid2+1] to end of the array\n",
    "\n",
    "    extend_three_way_merge(left)\n",
    "    extend_three_way_merge(middle)\n",
    "    extend_three_way_merge(right)\n",
    "    sorted_array = merge(arr, left, middle, right)\n",
    "    return arr\n",
    "\n",
    "def extended_three_way_merge(arr):\n",
    "    if type(arr) == np.ndarray:\n",
    "        A = arr.tolist()\n",
    "    else:\n",
    "        A=arr\n",
    "    return extend_three_way_merge(A)\n",
    "\n",
    "def time_extended_three_way(arr):\n",
    "    start = time.time()\n",
    "    extended_three_way_merge(arr)\n",
    "    end = time.time()\n",
    "    return end-start"
   ]
  },
  {
   "cell_type": "code",
   "execution_count": 6,
   "metadata": {
    "deletable": false,
    "editable": false,
    "nbgrader": {
     "checksum": "67aa3d8368da069e20c5a02e417f6e2f",
     "grade": true,
     "grade_id": "cell-8ab1cb1e1b4c76fb",
     "locked": true,
     "points": 0,
     "schema_version": 1,
     "solution": false
    }
   },
   "outputs": [],
   "source": [
    "assert(extended_three_way_merge([4,3,2,1]) == [1,2,3,4])\n",
    "assert(extended_three_way_merge(np.array([4,3,2,1])) == [1,2,3,4]) "
   ]
  },
  {
   "cell_type": "markdown",
   "metadata": {
    "deletable": false,
    "nbgrader": {
     "checksum": "19e6aa4b6b6d26cdfe75d36d77e68f9f",
     "grade": false,
     "grade_id": "cell-05230d0283ee03d4",
     "locked": true,
     "schema_version": 1,
     "solution": false
    }
   },
   "source": [
    "## Bucket Sort\n",
    "\n",
    "Bucket sort (or Bin sort) is an algorithm that takes as inputs an n-element array and the number of buckets, k, to be used during sorting.  Then, the algorithm distributes the elements of the input array into k-different buckets and proceeds to sort the individual buckets. Then, merges the sorted buckets to obtained the sorted array. Here is pseudocode for the BucketSort algorithm:\n",
    "\n",
    "The BucketSort code above calls the function GetBucketNum  (see the pseudocode below) to distribute all the elements of array A into k-buckets.  Every element in the array is assigned a bucket number based on its value (positive or negative numbers). GetBucketNum returns the bucket number that corresponds to element A[i].   It takes as inputs the element of the array, A[i], the max and min elements in A, the size of the intervals in every bucket (e.g., if you have numbers with values between  0 and 100 numbers and 5 buckets, every bucket has an interval of size 20 = [100-0]/5)."
   ]
  },
  {
   "cell_type": "code",
   "execution_count": 7,
   "metadata": {
    "deletable": false,
    "nbgrader": {
     "checksum": "3c43cacdf4e5272a4f062b7d3a5e3ccc",
     "grade": false,
     "grade_id": "cell-4f283016e5365a91",
     "locked": false,
     "schema_version": 1,
     "solution": true
    }
   },
   "outputs": [],
   "source": [
    "import math\n",
    "import time\n",
    "def buckets(arr, k):\n",
    "    \"\"\"Implements BucketSort\n",
    "    \n",
    "    Input:\n",
    "    arr: a Python list OR numpy array (your code should work with both of these data types)\n",
    "    k: int, number of buckets\n",
    "    \n",
    "    Output: a sorted Python list\"\"\"\n",
    "    n = len(arr) #Length of the array\n",
    "    mn = min(arr) #Minimum value from the array\n",
    "    mx = max(arr) #Maximum value from the array\n",
    "    sz = math.ceil((mx-mn)/k) #Calculates the size of numerical interval of each bucket\n",
    "    buckets = [] #Initializes the bucket as an empty list\n",
    "    for ele in range(k): \n",
    "        buckets.append([]) #Sets the size of the buckets list.\n",
    "    for i in range (n): #Distributes the elements.\n",
    "        b = Get_Bucket_Num(arr[i], mn, mx, sz, k) #Calls the Get_Bucket_Num function\n",
    "        buckets[b].append(arr[i]) #Adds the value obtained from the function call and adds it to the appropriate position in the list\n",
    "    for j in range (k): \n",
    "        bubble_sort (buckets[j]) #Sorts the buckets using bubble sort algorithm\n",
    "    arr = sum(buckets, []) #Adds the buckets to form the final sorted list.\n",
    "    return arr\n",
    "\n",
    "def Get_Bucket_Num(a, mn, mx, sz, k):\n",
    "    if a == mx: #If the array element is the maximum, sets j to k.\n",
    "        j = k\n",
    "    elif a==mn:#If the array element is the minimum, sets j to k.\n",
    "        j = 1\n",
    "    else: \n",
    "        j = 1\n",
    "        while a>(mn + (sz*j)): #Selects the appropriate bucket for the element.\n",
    "            j = j+1\n",
    "    return j-1\n",
    "\n",
    "def bucket_sort(arr,k): #Enables the use of numpy arrays.\n",
    "    if type(arr) == np.ndarray:\n",
    "        A = arr.tolist()\n",
    "    else:\n",
    "        A = arr\n",
    "    return buckets(A,k)\n",
    "\n",
    "def time_bucket_sort(arr,k): #Calculates the run time of the algorithm.\n",
    "    start  = time.time()\n",
    "    bucket_sort(arr,k)\n",
    "    end = time.time()\n",
    "    return end-start\n"
   ]
  },
  {
   "cell_type": "code",
   "execution_count": 8,
   "metadata": {
    "deletable": false,
    "editable": false,
    "nbgrader": {
     "checksum": "48101974eb50e24695c14057726cdf08",
     "grade": true,
     "grade_id": "cell-2a287ffea077a4e6",
     "locked": true,
     "points": 1,
     "schema_version": 1,
     "solution": false
    }
   },
   "outputs": [],
   "source": [
    "assert(bucket_sort([4,3,2,1], 1) == [1,2,3,4])\n",
    "assert(bucket_sort(np.array([4,3,2,1]), 1) == [1,2,3,4])\n",
    "assert(bucket_sort([4,3,2,1], 3) == [1,2,3,4])\n",
    "assert(bucket_sort(np.array([4,3,2,1]), 3) == [1,2,3,4])"
   ]
  },
  {
   "cell_type": "markdown",
   "metadata": {
    "deletable": false,
    "nbgrader": {
     "checksum": "d720b82cffed91c73c65f935dce98c9c",
     "grade": false,
     "grade_id": "cell-280061fa442a3cdf",
     "locked": true,
     "schema_version": 1,
     "solution": false
    }
   },
   "source": [
    "#### A second version of the BucketSort algorithm"
   ]
  },
  {
   "cell_type": "code",
   "execution_count": 9,
   "metadata": {
    "deletable": false,
    "nbgrader": {
     "checksum": "57dbe67cb68f6268950463afaf5ababa",
     "grade": false,
     "grade_id": "cell-d90434b2aa46d9aa",
     "locked": false,
     "schema_version": 1,
     "solution": true
    }
   },
   "outputs": [],
   "source": [
    "import numpy\n",
    "import time\n",
    "import math\n",
    "def time_ext_bucket(arr,k):\n",
    "    start = time.time()\n",
    "    extended_bucket(arr,k)\n",
    "    end = time.time()\n",
    "    return end-start\n",
    "\n",
    "def extended_bucket_sort(arr,k):\n",
    "    if type(arr) == np.ndarray:\n",
    "        A = arr.tolist()\n",
    "    else:\n",
    "        A = arr\n",
    "    return extended_bucket(A,k)\n",
    "    \n",
    "def extended_bucket(arr, k):\n",
    "    \"\"\"Implements the second version of the BucketSort algorithm\n",
    "    \n",
    "    Input:\n",
    "    arr: a Python list OR numpy array (your code should work with both of these data types)\n",
    "    k: int, number of buckets\n",
    "    \n",
    "    Output: a sorted Python list\"\"\"\n",
    "    \n",
    "    mn = min (arr) #Sets the minimum value from the array to mn\n",
    "    mx = max (arr) #Sets the maximum value from the array to mx\n",
    "    sz = math.ceil((mx - mn) / k) #Calculates the size of numerical interval of each bucket\n",
    "    bucket = [] #Create an empty bucket\n",
    "    for ele in range (k): #Sets the size of the buckets list.\n",
    "        bucket.append([])\n",
    "        \n",
    "    for i in arr: \n",
    "        b = Get_Bucket_Num (i,mn,mx,sz,k) #Calls the function to find the proper index.\n",
    "        bucket[b].append (i)\n",
    "        \n",
    "    sorted_ = []    \n",
    "    for n in range (len (bucket)): #Iterates through every bucket to check if any further divisions are required.\n",
    "        sorted_.append(bucket[n])\n",
    "        if len(bucket[n])>1 :\n",
    "            extended_bucket_sort(bucket [n], len (bucket [n])) #Recursive function that sets the new 'arr' as bucket[n] and the k value to the length of that array.\n",
    "    \n",
    "    #print (sorted_)\n",
    "    #print (len(sorted_))\n",
    "    \n",
    "    li = 0  #Index for the list\n",
    "    for nl in range (len(sorted_)): #This combines all the buckets and gives us a sorted array.\n",
    "        for j in range(len(bucket [nl])):\n",
    "            arr[li] = bucket[nl][j]\n",
    "            li = li+1\n",
    "    return arr #Finally, we return the sorted array.\n"
   ]
  },
  {
   "cell_type": "code",
   "execution_count": 10,
   "metadata": {
    "deletable": false,
    "editable": false,
    "nbgrader": {
     "checksum": "cebb0168976148f3e697e1d2e0c4f727",
     "grade": true,
     "grade_id": "cell-a42f473f6bd53e24",
     "locked": true,
     "points": 1,
     "schema_version": 1,
     "solution": false
    }
   },
   "outputs": [],
   "source": [
    "assert(extended_bucket_sort([4,3,2,1], 1) == [1,2,3,4])\n",
    "assert(extended_bucket_sort(np.array([4,3,2,1]), 1) == [1,2,3,4])\n",
    "assert(extended_bucket_sort([4,3,2,1], 3) == [1,2,3,4])\n",
    "assert(extended_bucket_sort(np.array([4,3,2,1]), 3) == [1,2,3,4])"
   ]
  },
  {
   "cell_type": "markdown",
   "metadata": {
    "deletable": false,
    "nbgrader": {
     "checksum": "6067f95c6b23e98e07fb691da8fc7ade",
     "grade": false,
     "grade_id": "cell-13706de3e5f69cf9",
     "locked": true,
     "schema_version": 1,
     "solution": false
    }
   },
   "source": [
    "#### Complexity of the algorithms"
   ]
  },
  {
   "cell_type": "markdown",
   "metadata": {},
   "source": [
    "1.\n",
    "\n",
    "Algorithm complexity:\n",
    "\n",
    "a. Regular merge sort\n",
    "\n",
    "* O($n log_2 n$)\n",
    "* We are dividing the lists into two halves (n/2) every recursion, until we have one element in each list.\n",
    "* Then we need to merge all the sublists which has O(n) time complexity.\n",
    "\n",
    "b. Three-way merge sort\n",
    "* O($n log_3 n$)\n",
    "* Unlike the regular merge sort, we divide the list into three halves (n/3). This only changes the base of the log to 3, instead of 2.\n",
    "* Rest is similar to regular merge sort.\n",
    "\n",
    "c. Extended three way merge sort\n",
    "\n",
    "* It is dependent on the threshold that we set. Bubble sort has a complexity of $O(n^2)$. If the length of the array is less thann the threshold, then the complexity is $O(n^2)$.\n",
    "* If that is not the case, the complexity is same as three way merge sort i.e. $O(n log_3 n$)\n",
    "* We can create a piecewise function to show the big-O."
   ]
  },
  {
   "cell_type": "markdown",
   "metadata": {},
   "source": [
    "2.Assumptions\n",
    "\n",
    "* To get the runtime, python's time library is used whose accuracy might affect the run time.\n",
    "* I have defined new function to capture the time taken, so there might be extra steps involved that might affect the runtime.\n",
    "* The implementaion for the algorithm might change their runtime. For example: I have used a different approach for three way merge sort without appending infinity values. This might be more or less effective in decreasing the runtime. Therefore, different implementations might change the outcome.\n",
    "* We capture the time at the start of the function and after the function has completed running and subtract the two values to get the runtime. There might be rounding of numbers affecting the accuracy. For example: there are cases when the difference in time is calculated as 0. This distorts the results.\n",
    "* Every computer is different with varying processing speed and memory. So, that is a major factor that might increase or decrease the runtime.\n",
    "* There might be some edge cases or exceptions that might produce false results, but the runtime is still calculated."
   ]
  },
  {
   "cell_type": "markdown",
   "metadata": {},
   "source": [
    "3. \n",
    "\n",
    "The results are consistent with the theoretical analysis. From the graph, the runtime of extended three way merge sort outperforms other two algorithms. This might change depending on the threshold value that has been set."
   ]
  },
  {
   "cell_type": "code",
   "execution_count": 11,
   "metadata": {},
   "outputs": [],
   "source": [
    "import math\n",
    "import time\n",
    "def two_merge(A, p, q, r):\n",
    "    # YOUR CODE HERE\n",
    "    step_counter = 0\n",
    "    n1 = q-p+1\n",
    "    n2 = r-q\n",
    "    L = A[p:q+1]\n",
    "    R = A[q+1:r+1]\n",
    "    L.append(math.inf)\n",
    "    step_counter += 1\n",
    "    R.append(math.inf)\n",
    "    step_counter += 1\n",
    "\n",
    "    i= j = 0\n",
    "    for k in range (p, r+1):\n",
    "        if (L[i] <= R[j]):\n",
    "            A[k] = L[i]\n",
    "            i += 1\n",
    "            step_counter += 1\n",
    "        else:\n",
    "            A[k] = R[j]\n",
    "            j += 1\n",
    "            step_counter += 1\n",
    "    return A, step_counter\n",
    "\n",
    "def two_merge_sort(A,p,r):\n",
    "    # YOUR CODE HERE \n",
    "    step_counter = 0\n",
    "    step_counter = step_counter + 1\n",
    "    if p < r:\n",
    "        q = (p+r)//2\n",
    "        two_merge_sort(A,p,q)\n",
    "        step_counter = step_counter + 1\n",
    "        two_merge_sort(A,q+1,r)\n",
    "        step_counter = step_counter + 1\n",
    "        merge_count = two_merge(A,p,q,r)\n",
    "        step_counter = step_counter + merge_count[1]\n",
    "    return A, step_counter\n",
    "\n",
    "def two_way_merge(arr):\n",
    "    start = time.time()\n",
    "    p = 0\n",
    "    r = len(arr)-1\n",
    "    ssorted = two_merge_sort(arr,p,r)\n",
    "    end = time.time()\n",
    "    return end-start\n",
    "\n",
    "def two_steps(arr):\n",
    "    p = 0\n",
    "    r = len(arr)-1\n",
    "    ssorted = two_merge_sort(arr,p,r)\n",
    "    return ssorted[1]"
   ]
  },
  {
   "cell_type": "code",
   "execution_count": 12,
   "metadata": {
    "deletable": false,
    "nbgrader": {
     "checksum": "b27c65928ef98faa0539bcb27f7a6eb7",
     "grade": true,
     "grade_id": "cell-7de481a7d24e508b",
     "locked": false,
     "points": 0,
     "schema_version": 1,
     "solution": true
    }
   },
   "outputs": [
    {
     "name": "stdout",
     "output_type": "stream",
     "text": [
      "Regular merge:  0.0016169166564941407\n",
      "Three way merge:  0.002012810707092285\n",
      "Extended merge:  0.0012663006782531738\n",
      "Minimum:  0.0012663006782531738\n"
     ]
    },
    {
     "data": {
      "text/plain": [
       "<function matplotlib.pyplot.show(*args, **kw)>"
      ]
     },
     "execution_count": 12,
     "metadata": {},
     "output_type": "execute_result"
    },
    {
     "data": {
      "image/png": "[encoded data removed]",
      "text/plain": [
       "<Figure size 432x288 with 1 Axes>"
      ]
     },
     "metadata": {
      "needs_background": "light"
     },
     "output_type": "display_data"
    }
   ],
   "source": [
    "import random #Imports the random library\n",
    "import matplotlib.pyplot as plt \n",
    "#Initializes the required lists\n",
    "array_size = list() \n",
    "random_list = list()\n",
    "time_list_extended_merge = []\n",
    "time_list_three_merge = []\n",
    "time_list_two_way_merge = []\n",
    "tot_steps_two = []\n",
    "for i in range (1, 1000, 10): #Sets the number of elements in the list.\n",
    "    rand_list = random.sample(range(-1000,5000),i) #Creates a random list from -1000 to 1000 with i elements.\n",
    "    array_size.append(i) #Creates a list of the number of elements to be sorted\n",
    "    \n",
    "    ini_time_three = time_three_merge(rand_list) #Gets the run time of each instance of the sorting algorithm.\n",
    "    time_list_three_merge.append(ini_time_three) #Adds up the run time to get a list of runtimes.\n",
    "    \n",
    "    two_way_time = two_way_merge(rand_list)#Gets the run time of each instance of the sorting algorithm.\n",
    "    time_list_two_way_merge.append(two_way_time)#Adds up the run time to get a list of runtimes\n",
    "    \n",
    "    extended_three_way_time = time_extended_three_way(rand_list)#Gets the run time of each instance of the sorting algorithm.\n",
    "    time_list_extended_merge.append(extended_three_way_time)#Adds up the run time to get a list of runtimes\n",
    "merge_avg = sum(time_list_two_way_merge)/len(time_list_two_way_merge)\n",
    "merge3_avg = sum(time_list_three_merge)/len(time_list_three_merge)   \n",
    "ext_avg = sum(time_list_extended_merge)/len(time_list_extended_merge)\n",
    "print (\"Regular merge: \",merge_avg)\n",
    "print (\"Three way merge: \", merge3_avg)\n",
    "print (\"Extended merge: \",ext_avg )\n",
    "print (\"Minimum: \",min(merge_avg, merge3_avg, ext_avg))\n",
    "\n",
    "#Plots the graph\n",
    "plt.plot(array_size, time_list_three_merge, label =\"Three way merge sort\")\n",
    "plt.plot(array_size, time_list_two_way_merge, label =\"Two way merge sort\")\n",
    "plt.plot(array_size, time_list_extended_merge, label =\"Extended three way merge sort\")\n",
    "plt.xlabel(\"Number of elements in the list (n)\")\n",
    "plt.ylabel(\"Time taken in seconds\")\n",
    "plt.legend()\n",
    "plt.show"
   ]
  },
  {
   "cell_type": "markdown",
   "metadata": {
    "deletable": false,
    "nbgrader": {
     "checksum": "182abfd4b5c161d778fd41c1c59b1b0d",
     "grade": false,
     "grade_id": "cell-f6182ad360cf8184",
     "locked": true,
     "schema_version": 1,
     "solution": false
    }
   },
   "source": [
    "#### Runtimes for the sorting algorithms"
   ]
  },
  {
   "cell_type": "markdown",
   "metadata": {},
   "source": [
    "1.\n",
    "\n",
    "a. 2 way merge sort\n",
    "* O($n log_2 n$)\n",
    "* We are dividing the lists into two halves (n/2) every recursion, until we have one element in each list.\n",
    "* Then we need to merge all the sublists which has O(n) time complexity.\n",
    "\n",
    "b. Bucket Sort\n",
    "* There are k buckets in total and the time taken for each bucket is c1(n/k) + c2 (n is the length of the array). So, we can multiply these two and get: k(c1(n/k)+c2). \n",
    "* Since we are only concerned about the order of growth, we can eliminate any constants. Time complexity: $O(n+k)$\n",
    "\n",
    "c. Extended Bucket Sort\n",
    "* There are many factors that influence the runtime like the distribution of elements, value of k, etc. This sorting algorithm has similarities with the regular bucket sort. The only difference would be the value of k. Here, the value of k would be the same as the length of the initial array. So, we will get n.c1+n.C2 or, n(C1+C2). The constants can be removed, so we will get. O(n). The worst case would be $O(n^2+k)$. The recursion and division takes $n^2$ and the concatenation of buckets has time complexity of O(k).\n",
    "\n",
    "2.\n",
    "\n",
    "The method to find the runtime is similar to the ones in the previous question. The value of k is held constant, and is the same for the condition in randomized list and inverted list.\n",
    "\n",
    "3.\n",
    "\n",
    "The runtime of extended bucket sort performs much worse in the worst case scenario i.e. the inverted list. Making direct comparison with merge sort is not possible since changing the values of k will yield different results."
   ]
  },
  {
   "cell_type": "code",
   "execution_count": 13,
   "metadata": {
    "deletable": false,
    "nbgrader": {
     "checksum": "dace8b567522d6b9040779f6fcf6dafd",
     "grade": true,
     "grade_id": "cell-76dce7d4abf57157",
     "locked": false,
     "points": 0,
     "schema_version": 1,
     "solution": true
    }
   },
   "outputs": [
    {
     "data": {
      "text/plain": [
       "<function matplotlib.pyplot.show(*args, **kw)>"
      ]
     },
     "execution_count": 13,
     "metadata": {},
     "output_type": "execute_result"
    },
    {
     "data": {
      "image/png": "[encoded data removed]",
      "text/plain": [
       "<Figure size 432x288 with 1 Axes>"
      ]
     },
     "metadata": {
      "needs_background": "light"
     },
     "output_type": "display_data"
    }
   ],
   "source": [
    "#Initializes the required lists\n",
    "array_size2 = []\n",
    "time_for_buckets = []\n",
    "time_for_ext_bucket = []\n",
    "time_list_two_way_merge = []\n",
    "for i in range (1, 1000, 50):\n",
    "    rand_list = random.sample(range(-1000,1000),i)\n",
    "    array_size2.append(i)\n",
    "    \n",
    "    #random_list.append(rand_list)\n",
    "    two_way_time = two_way_merge(rand_list)\n",
    "    time_list_two_way_merge.append(two_way_time)\n",
    "    \n",
    "    bucket_time = time_bucket_sort(rand_list,1000)\n",
    "    time_for_buckets.append(bucket_time)\n",
    "    \n",
    "    ext_bucket = time_ext_bucket(rand_list, 2)\n",
    "    time_for_ext_bucket.append(ext_bucket)\n",
    "          \n",
    "plt.plot(array_size2,time_list_two_way_merge , label =\"Two way merge sort\")\n",
    "plt.plot(array_size2,time_for_buckets , label =\"Bucket Sort\")\n",
    "plt.plot(array_size2,time_for_ext_bucket , label =\"Extended Bucket Sort\")\n",
    "\n",
    "plt.xlabel(\"Number of elements in the list (n)\")\n",
    "plt.ylabel(\"Time taken in seconds\")\n",
    "plt.title(\"Runtime comparison in a random list\")\n",
    "plt.legend()\n",
    "plt.show"
   ]
  },
  {
   "cell_type": "code",
   "execution_count": 14,
   "metadata": {},
   "outputs": [
    {
     "data": {
      "text/plain": [
       "<function matplotlib.pyplot.show(*args, **kw)>"
      ]
     },
     "execution_count": 14,
     "metadata": {},
     "output_type": "execute_result"
    },
    {
     "data": {
      "image/png": "[encoded data removed]",
      "text/plain": [
       "<Figure size 432x288 with 1 Axes>"
      ]
     },
     "metadata": {
      "needs_background": "light"
     },
     "output_type": "display_data"
    }
   ],
   "source": [
    "array_size3 = []\n",
    "time_for_buckets1 = []\n",
    "time_for_ext_bucket1 = []\n",
    "time_list_two_way_merge1 = []\n",
    "for i in range (1, 1000, 50):\n",
    "    rand_list2 = random.sample(range(-1000,1000),i)\n",
    "    array_size3.append(i)\n",
    "    rand_list2.sort(reverse=True) #Inverses the random list to test the inverse case.\n",
    "    \n",
    "    ext_bucket1 = time_ext_bucket(rand_list, 1000)\n",
    "    time_for_ext_bucket1.append(ext_bucket1)\n",
    "    \n",
    "    #random_list.append(rand_list)\n",
    "    two_way_time = two_way_merge(rand_list2)\n",
    "    time_list_two_way_merge1.append(two_way_time)\n",
    "    \n",
    "    bucket_time = time_bucket_sort(rand_list2,20)\n",
    "    time_for_buckets1.append(bucket_time)\n",
    "    \n",
    "plt.plot(array_size3,time_list_two_way_merge1 , label =\"Two way merge sort\")\n",
    "plt.plot(array_size3,time_for_buckets1 , label =\"Bucket Sort\")\n",
    "plt.plot(array_size3,time_for_ext_bucket1 , label =\"Extended Bucket SOrt\")\n",
    "\n",
    "plt.xlabel(\"Number of elements in the list (n)\")\n",
    "plt.ylabel(\"Time taken in seconds\")\n",
    "plt.title(\"Runtime comparison for a inverted list\")\n",
    "plt.legend()\n",
    "plt.show"
   ]
  }
 ],
 "metadata": {
  "kernelspec": {
   "display_name": "Python 3",
   "language": "python",
   "name": "python3"
  },
  "language_info": {
   "codemirror_mode": {
    "name": "ipython",
    "version": 3
   },
   "file_extension": ".py",
   "mimetype": "text/x-python",
   "name": "python",
   "nbconvert_exporter": "python",
   "pygments_lexer": "ipython3",
   "version": "3.7.6"
  }
 },
 "nbformat": 4,
 "nbformat_minor": 2
}
